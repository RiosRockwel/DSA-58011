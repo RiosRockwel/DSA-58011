{
  "nbformat": 4,
  "nbformat_minor": 0,
  "metadata": {
    "colab": {
      "provenance": [],
      "authorship_tag": "ABX9TyMaoz36PnBPqS7TeKudxAPB",
      "include_colab_link": true
    },
    "kernelspec": {
      "name": "python3",
      "display_name": "Python 3"
    },
    "language_info": {
      "name": "python"
    }
  },
  "cells": [
    {
      "cell_type": "markdown",
      "metadata": {
        "id": "view-in-github",
        "colab_type": "text"
      },
      "source": [
        "<a href=\"https://colab.research.google.com/github/Rockwel09/DSA-58011/blob/main/Prelim.ipynb\" target=\"_parent\"><img src=\"https://colab.research.google.com/assets/colab-badge.svg\" alt=\"Open In Colab\"/></a>"
      ]
    },
    {
      "cell_type": "code",
      "execution_count": 3,
      "metadata": {
        "colab": {
          "base_uri": "https://localhost:8080/"
        },
        "id": "n1cO4V4Fs7Wo",
        "outputId": "b55e33e9-b958-4e17-bd48-8fcdee25e5da"
      },
      "outputs": [
        {
          "output_type": "stream",
          "name": "stdout",
          "text": [
            "Integers less than 10 but greater than 1 [1, 2, 3, 4, 5, 6, 7, 8, 9, 10]\n",
            "The numbers is: 10\n"
          ]
        }
      ],
      "source": [
        "Complnt= [1,2,3,4,5,6,7,8,9,10]\n",
        "print(\"Integers less than 10 but greater than 1\",Complnt)\n",
        "print(\"The numbers is:\",len(Complnt))"
      ]
    }
  ]
}