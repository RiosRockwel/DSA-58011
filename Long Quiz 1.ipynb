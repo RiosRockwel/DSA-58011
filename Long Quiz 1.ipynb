{
  "nbformat": 4,
  "nbformat_minor": 0,
  "metadata": {
    "colab": {
      "provenance": [],
      "authorship_tag": "ABX9TyPxm+zVyK3ZseR6r3DObjtm",
      "include_colab_link": true
    },
    "kernelspec": {
      "name": "python3",
      "display_name": "Python 3"
    },
    "language_info": {
      "name": "python"
    }
  },
  "cells": [
    {
      "cell_type": "markdown",
      "metadata": {
        "id": "view-in-github",
        "colab_type": "text"
      },
      "source": [
        "<a href=\"https://colab.research.google.com/github/Rockwel09/DSA-58011/blob/main/Long%20Quiz%201.ipynb\" target=\"_parent\"><img src=\"https://colab.research.google.com/assets/colab-badge.svg\" alt=\"Open In Colab\"/></a>"
      ]
    },
    {
      "cell_type": "markdown",
      "source": [
        "Array - Rios\n"
      ],
      "metadata": {
        "id": "GgEsrbKehooT"
      }
    },
    {
      "cell_type": "code",
      "execution_count": 6,
      "metadata": {
        "colab": {
          "base_uri": "https://localhost:8080/"
        },
        "id": "SY1N2tXAfb5n",
        "outputId": "76b395b0-8392-4680-d248-5d01243cc399"
      },
      "outputs": [
        {
          "output_type": "stream",
          "name": "stdout",
          "text": [
            "Full name: ['Rockwel', 'Chester', 'Rios']\n",
            "Reverse Full name ['Rios', 'Chester', 'Rockwel']\n"
          ]
        }
      ],
      "source": [
        "arr = [\"Rockwel\", \"Chester\",\"Rios\"]\n",
        "print(\"Full name:\",arr)\n",
        "\n",
        "res = arr[::-1]\n",
        "print (\"Reverse Full name\",res)"
      ]
    }
  ]
}