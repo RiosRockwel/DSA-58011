{
  "nbformat": 4,
  "nbformat_minor": 0,
  "metadata": {
    "colab": {
      "provenance": [],
      "authorship_tag": "ABX9TyP+G/DIapBoOYrkP6zJozhI",
      "include_colab_link": true
    },
    "kernelspec": {
      "name": "python3",
      "display_name": "Python 3"
    },
    "language_info": {
      "name": "python"
    }
  },
  "cells": [
    {
      "cell_type": "markdown",
      "metadata": {
        "id": "view-in-github",
        "colab_type": "text"
      },
      "source": [
        "<a href=\"https://colab.research.google.com/github/Rockwel09/DSA-58011/blob/main/Array.ipynb\" target=\"_parent\"><img src=\"https://colab.research.google.com/assets/colab-badge.svg\" alt=\"Open In Colab\"/></a>"
      ]
    },
    {
      "cell_type": "markdown",
      "source": [
        "Example 1"
      ],
      "metadata": {
        "id": "gjBIvx2RaNLt"
      }
    },
    {
      "cell_type": "code",
      "execution_count": 1,
      "metadata": {
        "colab": {
          "base_uri": "https://localhost:8080/"
        },
        "id": "X6ZR9a1ZaMMi",
        "outputId": "b7ef4b9c-0994-4595-a649-5f5179d26a44"
      },
      "outputs": [
        {
          "output_type": "stream",
          "name": "stdout",
          "text": [
            "i\n",
            "f\n"
          ]
        }
      ],
      "source": [
        "import array as arr\n",
        "arr.typecodes\n",
        "a= arr.array('i',[1,2,3,4,5,6])\n",
        "b=arr.array('f',[1.5,2.5,3.5,4.5,5.5,6.5,7.5,8.5,9.5])\n",
        "print(a.typecode)\n",
        "print(b.typecode)"
      ]
    },
    {
      "cell_type": "markdown",
      "source": [
        "Example 2 Create array elements of array naem a to float/decimal numbers\n"
      ],
      "metadata": {
        "id": "MMyVkPClaW4p"
      }
    },
    {
      "cell_type": "code",
      "source": [
        "a = arr.array('f',[1,2,3,4,5,6,7,8,9,10])\n",
        "print (a)"
      ],
      "metadata": {
        "colab": {
          "base_uri": "https://localhost:8080/"
        },
        "id": "NAMu0yF2aRV5",
        "outputId": "69d9e2c7-30dc-4c8b-9568-6871baf034e9"
      },
      "execution_count": 2,
      "outputs": [
        {
          "output_type": "stream",
          "name": "stdout",
          "text": [
            "array('f', [1.0, 2.0, 3.0, 4.0, 5.0, 6.0, 7.0, 8.0, 9.0, 10.0])\n"
          ]
        }
      ]
    },
    {
      "cell_type": "markdown",
      "source": [
        "Insert an element:11 to the first index of the array a"
      ],
      "metadata": {
        "id": "MRt_jp6Vaer8"
      }
    },
    {
      "cell_type": "code",
      "source": [
        "a.insert(0,11)\n",
        "print(a)\n",
        "\n",
        "b[-1]=12\n",
        "print(b)"
      ],
      "metadata": {
        "colab": {
          "base_uri": "https://localhost:8080/"
        },
        "id": "v54JYu-Eaf6y",
        "outputId": "4f2bc051-8bd1-4feb-edd6-2befea1adc27"
      },
      "execution_count": 3,
      "outputs": [
        {
          "output_type": "stream",
          "name": "stdout",
          "text": [
            "array('f', [11.0, 1.0, 2.0, 3.0, 4.0, 5.0, 6.0, 7.0, 8.0, 9.0, 10.0])\n",
            "array('f', [1.5, 2.5, 3.5, 4.5, 5.5, 6.5, 7.5, 8.5, 12.0])\n"
          ]
        }
      ]
    },
    {
      "cell_type": "code",
      "source": [
        "a = arr.array('i',[1,2,3,4,5,6,7,8,9,10])\n",
        "print(a)\n",
        "a.insert(9,-1)\n",
        "print(a)"
      ],
      "metadata": {
        "colab": {
          "base_uri": "https://localhost:8080/"
        },
        "id": "88zpHJOOaimD",
        "outputId": "6fae785e-ac3f-45fe-a49c-55ec2143ad35"
      },
      "execution_count": 4,
      "outputs": [
        {
          "output_type": "stream",
          "name": "stdout",
          "text": [
            "array('i', [1, 2, 3, 4, 5, 6, 7, 8, 9, 10])\n",
            "array('i', [1, 2, 3, 4, 5, 6, 7, 8, 9, -1, 10])\n"
          ]
        }
      ]
    },
    {
      "cell_type": "markdown",
      "source": [
        "Linked List"
      ],
      "metadata": {
        "id": "pZdurfu3ajrk"
      }
    },
    {
      "cell_type": "code",
      "source": [
        "class Node:\n",
        "  def __init__(self,data):\n",
        "    self.data = data\n",
        "    self.next = None\n",
        "\n",
        "class LinkedList:\n",
        "  def __init__(self):\n",
        "    self.head = None\n",
        "  def printList(self):\n",
        "    temp = self.head\n",
        "    while(temp):\n",
        "      print(temp.data)\n",
        "      temp = temp.next\n",
        "\n",
        "\n",
        "llist = LinkedList()\n",
        "\n",
        "llist.head = Node(1)\n",
        "second = Node(2)\n",
        "third = Node(3)\n",
        "\n",
        "llist.head.next = second\n",
        "second.next = third\n",
        "\n",
        "llist.printList()"
      ],
      "metadata": {
        "colab": {
          "base_uri": "https://localhost:8080/"
        },
        "id": "LUoisH6oba9n",
        "outputId": "01b7167e-a7db-4852-d532-1efea1c0e3c5"
      },
      "execution_count": 5,
      "outputs": [
        {
          "output_type": "stream",
          "name": "stdout",
          "text": [
            "1\n",
            "2\n",
            "3\n"
          ]
        }
      ]
    }
  ]
}