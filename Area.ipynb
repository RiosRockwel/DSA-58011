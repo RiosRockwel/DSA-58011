{
  "nbformat": 4,
  "nbformat_minor": 0,
  "metadata": {
    "colab": {
      "name": "Untitled6.ipynb",
      "provenance": [],
      "authorship_tag": "ABX9TyPfnOqDy/A001ISL7K14Dz3",
      "include_colab_link": true
    },
    "kernelspec": {
      "name": "python3",
      "display_name": "Python 3"
    },
    "language_info": {
      "name": "python"
    }
  },
  "cells": [
    {
      "cell_type": "markdown",
      "metadata": {
        "id": "view-in-github",
        "colab_type": "text"
      },
      "source": [
        "<a href=\"https://colab.research.google.com/github/Rockwel09/DSA-58011/blob/main/Area.ipynb\" target=\"_parent\"><img src=\"https://colab.research.google.com/assets/colab-badge.svg\" alt=\"Open In Colab\"/></a>"
      ]
    },
    {
      "cell_type": "code",
      "execution_count": 3,
      "metadata": {
        "colab": {
          "base_uri": "https://localhost:8080/"
        },
        "id": "bK3y3ScvRtkQ",
        "outputId": "06a84e67-8238-4618-9236-8982b0a35933"
      },
      "outputs": [
        {
          "output_type": "stream",
          "name": "stdout",
          "text": [
            "Area of cirlce: 803.84\n"
          ]
        }
      ],
      "source": [
        "class Circle:\n",
        "  def __init__(self, r):\n",
        "    self.radius = r\n",
        "  def area(self):\n",
        "      return 3.14 * (self.radius ** 2)\n",
        "obj = Circle(16)\n",
        "print(\"Area of cirlce:\",obj.area())"
      ]
    }
  ]
}